{
 "cells": [
  {
   "cell_type": "code",
   "execution_count": 1,
   "metadata": {},
   "outputs": [],
   "source": [
    "import numpy as np\n",
    "import gym\n",
    "import gym_custom_envs\n",
    "import random\n",
    "import time\n",
    "from matplotlib.pylab import plt\n",
    "import seaborn as sns\n",
    "env = gym.make(\"DoubleIntegrator-v0\")"
   ]
  },
  {
   "cell_type": "code",
   "execution_count": 2,
   "metadata": {},
   "outputs": [
    {
     "name": "stdout",
     "output_type": "stream",
     "text": [
      "[20, 20] [0.2 0.2] (20, 20)\n"
     ]
    }
   ],
   "source": [
    "N = [env.dense_parameter]*len(env.observation_space_high)\n",
    "delta_T = (env.observation_space_high - env.observation_space_low)/N\n",
    "\n",
    "def getDiscrete(s):\n",
    "    dis_s = (s - env.observation_space_low)/delta_T\n",
    "    return tuple(dis_s.astype(np.int))\n",
    "print(N, delta_T, getDiscrete(np.array([2,2])))\n"
   ]
  },
  {
   "cell_type": "code",
   "execution_count": 3,
   "metadata": {},
   "outputs": [
    {
     "name": "stdout",
     "output_type": "stream",
     "text": [
      "(21, 21, 2)\n",
      "(21, 21)\n"
     ]
    },
    {
     "data": {
      "image/png": "[encoded data removed]",
      "text/plain": [
       "<Figure size 432x288 with 2 Axes>"
      ]
     },
     "metadata": {
      "needs_background": "light"
     },
     "output_type": "display_data"
    }
   ],
   "source": [
    "J = np.random.uniform(low=0, high=1, size=[env.dense_parameter+1, env.dense_parameter+1, len(env.observation_space_high)])\n",
    "# J = np.zeros((env.dense_parameter+1, env.dense_parameter+1, len(env.observation_space_high)))\n",
    "print(J.shape)\n",
    "action_map = np.array([[random.choice([0, env.umax]) for i in range(J.shape[0])] for i in range(J.shape[0])])\n",
    "# action_map = np.ones((J.shape[0], J.shape[0]))\n",
    "print(action_map.shape)\n",
    "ax = sns.heatmap(action_map, linewidth=0.5)\n",
    "plt.show()"
   ]
  },
  {
   "cell_type": "code",
   "execution_count": 4,
   "metadata": {},
   "outputs": [
    {
     "name": "stdout",
     "output_type": "stream",
     "text": [
      "49999\n"
     ]
    }
   ],
   "source": [
    "from IPython.display import clear_output\n",
    "episodes = 50000\n",
    "lr = 0.1\n",
    "dis = 0.9\n",
    "for i in range(episodes):\n",
    "    s = getDiscrete(env.reset())    \n",
    "    done = False\n",
    "    print(i)\n",
    "#     print(s)\n",
    "    while not done:\n",
    "        a = action_map[s[0], s[1]]\n",
    "        ns, cost, done, _ = env.step(a)\n",
    "        ns = env.get_discrete(ns)\n",
    "        s = ns\n",
    "#         if i%500 == 0: \n",
    "#             env.render()\n",
    "        if not done:\n",
    "            temp_a = np.argmax(J[ns[0], ns[1]])\n",
    "#             print(temp_a)\n",
    "            J[ns[0], ns[1], temp_a] += (np.max(dis*J[ns[0], ns[1]]) + cost - J[ns[0], ns[1], temp_a])\n",
    "#             J[ns[0], ns[1], temp_a] /= np.max(J)\n",
    "#             if temp_a == 0:\n",
    "#                 temp_a = -1\n",
    "            action_map[ns[0], ns[1]] = temp_a     \n",
    "#             ns1, cost1, done,_ = env.step(env.umin)\n",
    "#             ns2, cost2, done,_ = env.step(env.umax)\n",
    "#             J[ns1[0], ns1[1]]\n",
    "#             ns1 = env.get_discrete(ns1)\n",
    "#             ns2 = env.get_discrete(ns2)\n",
    "#             if np.argmin([cost1, cost2]) == 0:\n",
    "#                 action_map[ns[0], ns[1]] = -1.\n",
    "#             else:\n",
    "#                 action_map[ns[0], ns[1]] = 1.\n",
    "            \n",
    "#             J[s[0], s[1]] = np.min([cost1, cost2]) + cost\n",
    "#             done = False\n",
    "#         print(action_map)\n",
    "#         print(J)\n",
    "        clear_output(wait=True)\n",
    "#         time.sleep(0.05)\n",
    "\n",
    "#     print(s)\n",
    "        "
   ]
  },
  {
   "cell_type": "code",
   "execution_count": 5,
   "metadata": {},
   "outputs": [
    {
     "data": {
      "image/png": "[encoded data removed]",
      "text/plain": [
       "<Figure size 432x288 with 2 Axes>"
      ]
     },
     "metadata": {
      "needs_background": "light"
     },
     "output_type": "display_data"
    }
   ],
   "source": [
    "ax = sns.heatmap(action_map, linewidth=0.5)\n",
    "plt.show()"
   ]
  },
  {
   "cell_type": "code",
   "execution_count": 6,
   "metadata": {},
   "outputs": [
    {
     "name": "stdout",
     "output_type": "stream",
     "text": [
      "0.9977138408260168\n"
     ]
    }
   ],
   "source": [
    "print(np.max(J))"
   ]
  },
  {
   "cell_type": "code",
   "execution_count": null,
   "metadata": {},
   "outputs": [],
   "source": [
    "for i in range(100):\n",
    "    s = env.reset()\n",
    "    done = False\n",
    "    while not done:\n",
    "        a = random.choice([1,-1])\n",
    "        ns, c, done,_ = env.step(a)\n",
    "        s = ns\n",
    "        env.render()\n",
    "        time.sleep(0.05)"
   ]
  }
 ],
 "metadata": {
  "kernelspec": {
   "display_name": "Python 3",
   "language": "python",
   "name": "python3"
  },
  "language_info": {
   "codemirror_mode": {
    "name": "ipython",
    "version": 3
   },
   "file_extension": ".py",
   "mimetype": "text/x-python",
   "name": "python",
   "nbconvert_exporter": "python",
   "pygments_lexer": "ipython3",
   "version": "3.8.3"
  }
 },
 "nbformat": 4,
 "nbformat_minor": 4
}
