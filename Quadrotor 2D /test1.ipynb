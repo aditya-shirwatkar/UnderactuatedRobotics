{
 "cells": [
  {
   "cell_type": "code",
   "execution_count": null,
   "metadata": {},
   "outputs": [],
   "source": [
    "import numpy as np\n",
    "import casadi as ca\n",
    "import gym\n",
    "import gym_custom_envs\n",
    "import time\n",
    "import random\n",
    "# import scipy.linalg as alg\n",
    "from gym import wrappers"
   ]
  },
  {
   "cell_type": "code",
   "execution_count": null,
   "metadata": {},
   "outputs": [],
   "source": [
    "from IPython.display import clear_output\n",
    "env = gym.make(\"Quadrotor2D-v0\")"
   ]
  },
  {
   "cell_type": "code",
   "execution_count": null,
   "metadata": {},
   "outputs": [],
   "source": [
    "m = env.m\n",
    "I = env.I\n",
    "gravity = env.gravity\n",
    "r = env.l/2\n",
    "l = env.l\n",
    "T = 5.\n",
    "N = (1/env.dt).__int__()\n",
    "q = ca.MX.sym(\"q\", 3, 1)\n",
    "dq = ca.MX.sym(\"dq\", 3, 1)\n",
    "u = ca.MX.sym(\"u\", 2, 1)\n",
    "state = ca.vertcat(q, dq)\n",
    "L = ca.sumsqr(q) + ca.sumsqr(dq) + ca.sumsqr(u)\n",
    "\n",
    "x_ddot = -((u[0, 0] + u[1, 0])*ca.sin(q[2, 0]))/m\n",
    "y_ddot = (((u[0, 0] + u[1, 0])*ca.cos(q[2, 0])) - (m*gravity))/m\n",
    "theta_ddot = ((u[0, 0] - u[1, 0])*l/2)/I\n",
    "\n",
    "ddq = ca.vertcat(x_ddot, y_ddot, theta_ddot)\n",
    "state_dot = ca.vertcat(dq, ddq)\n",
    "\n",
    "print(q, dq, u, L)\n",
    "print(state_dot)"
   ]
  },
  {
   "cell_type": "code",
   "execution_count": null,
   "metadata": {},
   "outputs": [],
   "source": [
    "# Fixed step Runge-Kutta 4 integrator\n",
    "M = 4 # RK4 steps per interval\n",
    "DT = T/N/M\n",
    "f = ca.Function('f', [state, u], [state_dot, L])\n",
    "X0 = ca.MX.sym('X0', 6, 1)\n",
    "U = ca.MX.sym('U', 2, 1)\n",
    "X = X0\n",
    "Q = 0\n",
    "for j in range(M):\n",
    "   k1, k1_q = f(X, U)\n",
    "   k2, k2_q = f(X + DT/2 * k1, U)\n",
    "   k3, k3_q = f(X + DT/2 * k2, U)\n",
    "   k4, k4_q = f(X + DT * k3, U)\n",
    "   X=X+DT/6*(k1 +2*k2 +2*k3 +k4)\n",
    "   Q = Q + DT/6*(k1_q + 2*k2_q + 2*k3_q + k4_q)\n",
    "F = ca.Function('F', [X0, U], [X, Q],['x0','p'],['xf','qf'])\n"
   ]
  },
  {
   "cell_type": "code",
   "execution_count": null,
   "metadata": {},
   "outputs": [],
   "source": [
    "# Evaluate at a test point\n",
    "Fk = F(x0=[0.2,0.3, 0.2,0.3, 0.2,0.3],p=[0.2,0.3])\n",
    "print(Fk['xf'])\n",
    "print(Fk['qf'])"
   ]
  },
  {
   "cell_type": "code",
   "execution_count": null,
   "metadata": {},
   "outputs": [],
   "source": []
  },
  {
   "cell_type": "code",
   "execution_count": null,
   "metadata": {},
   "outputs": [],
   "source": [
    "# Formulate the NLP\n",
    "def fNLP(s):\n",
    "    # Start with an empty NLP\n",
    "    w=[]\n",
    "    w0 = []\n",
    "    lbw = []\n",
    "    ubw = []\n",
    "    J = 0\n",
    "    g=[]\n",
    "    lbg = []\n",
    "    ubg = []\n",
    "    print(s)\n",
    "    Xk = ca.MX(s)\n",
    "    print(m , g)\n",
    "    for k in range(N):\n",
    "        # New NLP variable for the control\n",
    "#         if k == N - 1:\n",
    "#             Xk = ca.MX([0, 0, 0, 0 , 0, 0])\n",
    "            \n",
    "        Uk = ca.MX.sym('U_' + str(k), 2, 1)\n",
    "        w += [Uk]\n",
    "        lbw += [-m*gravity, -m*gravity]\n",
    "        ubw += [m*gravity, m*gravity]\n",
    "        w0 += [0, 0]\n",
    "\n",
    "        # Integrate till the end of the interval\n",
    "        Fk = F(x0=Xk, p=Uk)\n",
    "        Xk = Fk['xf']\n",
    "        J=J+Fk['qf']\n",
    "        \n",
    "                # Add inequality constraint\n",
    "        if k == N - 1:\n",
    "            g += [Xk]\n",
    "            lbg += [-.01]*6\n",
    "            ubg += [.01]*6\n",
    "\n",
    "    return w,w0,lbw,ubw,J,g,lbg,ubg \n"
   ]
  },
  {
   "cell_type": "code",
   "execution_count": null,
   "metadata": {},
   "outputs": [],
   "source": [
    "for i in range(10):\n",
    "    s = env.reset().reshape(1, 6)[0]\n",
    "    w,w0,lbw,ubw,J,g,lbg,ubg = fNLP(s)\n",
    "    # Create an NLP solver\n",
    "    prob = {'f': J, 'x': ca.vertcat(*w), 'g': ca.vertcat(*g)}\n",
    "    solver = ca.nlpsol('solver', 'ipopt', prob)\n",
    "\n",
    "    # Solve the NLP\n",
    "    sol = solver(x0=w0, lbx=lbw, ubx=ubw, lbg=lbg, ubg=ubg)\n",
    "    w_opt = sol['x']\n",
    "\n",
    "    # Plot the solution\n",
    "    u_opt = w_opt\n",
    "    print(u_opt)\n",
    "    x_opt = [s]\n",
    "    for k in range(N):\n",
    "        Fk = F(x0=x_opt[-1], p=ca.DM([u_opt[k], u_opt[k+1]]))\n",
    "        x_opt += [Fk['xf'].full()]\n",
    "#     x1_opt = [r[0] for r in x_opt]\n",
    "#     x2_opt = [r[1] for r in x_opt]\n",
    "\n",
    "#     tgrid = [T/N*k for k in range(N+1)]\n",
    "    done = False\n",
    "    jj = 0\n",
    "    while not done:\n",
    "#         K, S = lqr(A, B, Q, R)\n",
    "        \n",
    "        a = [u_opt[jj].__float__(),u_opt[jj+1].__float__()] \n",
    "        print(a)\n",
    "#         print('Theta = ', round(np.rad2deg(s[0, 2]), 3))\n",
    "#         print('u = ', a.T)\n",
    "#         print(\"Reaction = \", round((a[0] + a[1])[0, 0] - m*g, 3))\n",
    "#         print(\"Cost = \", round(np.dot(s, np.dot(S, s.T))[0, 0], 3))\n",
    "\n",
    "        ns, r, done, _ = env.step([a[0], a[1]])\n",
    "        s = ns.reshape(1, 6)\n",
    "        jj += 1\n",
    "        env.render()\n",
    "        \n",
    "        clear_output(wait=True)\n",
    "        time.sleep(0.008)\n",
    "env.close()"
   ]
  },
  {
   "cell_type": "code",
   "execution_count": null,
   "metadata": {},
   "outputs": [],
   "source": []
  }
 ],
 "metadata": {
  "kernelspec": {
   "display_name": "Python 3",
   "language": "python",
   "name": "python3"
  },
  "language_info": {
   "codemirror_mode": {
    "name": "ipython",
    "version": 3
   },
   "file_extension": ".py",
   "mimetype": "text/x-python",
   "name": "python",
   "nbconvert_exporter": "python",
   "pygments_lexer": "ipython3",
   "version": "3.8.3"
  }
 },
 "nbformat": 4,
 "nbformat_minor": 4
}
